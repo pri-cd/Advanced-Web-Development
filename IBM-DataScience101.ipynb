{
  "metadata": {
    "kernelspec": {
      "language": "python",
      "display_name": "Python 3",
      "name": "python3"
    },
    "language_info": {
      "name": "python",
      "version": "3.10.13",
      "mimetype": "text/x-python",
      "codemirror_mode": {
        "name": "ipython",
        "version": 3
      },
      "pygments_lexer": "ipython3",
      "nbconvert_exporter": "python",
      "file_extension": ".py"
    },
    "kaggle": {
      "accelerator": "none",
      "dataSources": [],
      "dockerImageVersionId": 30746,
      "isInternetEnabled": true,
      "language": "python",
      "sourceType": "notebook",
      "isGpuEnabled": false
    },
    "colab": {
      "provenance": []
    }
  },
  "nbformat_minor": 0,
  "nbformat": 4,
  "cells": [
    {
      "cell_type": "markdown",
      "source": [
        "### **1. Your First Program**"
      ],
      "metadata": {
        "id": "EClg0UX6bRUD"
      }
    },
    {
      "cell_type": "code",
      "source": [
        "print(\"Hello Python101\", flush=True, end='\\n')"
      ],
      "metadata": {
        "trusted": true,
        "colab": {
          "base_uri": "https://localhost:8080/"
        },
        "id": "2D8RXliSbRUJ",
        "outputId": "2510ae4f-1fb6-4b00-8d13-eeb0eafdf7bc"
      },
      "execution_count": null,
      "outputs": [
        {
          "output_type": "stream",
          "name": "stdout",
          "text": [
            "Hello Python101\n"
          ]
        }
      ]
    },
    {
      "cell_type": "markdown",
      "source": [
        "### **2. String Operations**"
      ],
      "metadata": {
        "id": "yyVdnDG9bRUN"
      }
    },
    {
      "cell_type": "code",
      "source": [
        "string1 = \"Python is the Best Programming!\"\n",
        "\n",
        "# This is the usage of \"Methods\" in Python Strings!\n",
        "print(f\"Using \\\"Upper\\\"   Method: {string1.upper()}\")\n",
        "print(f\"Using \\\"Lower\\\"   Method: {string1.lower()}\")\n",
        "print(f\"Using \\\"Replace\\\" Method: {string1.replace('Python', 'C++')}\")\n",
        "print(f\"Using \\\"Find\\\"    Method: {string1.find('Pro')}\")\n",
        "\n",
        "del(string1)"
      ],
      "metadata": {
        "trusted": true,
        "colab": {
          "base_uri": "https://localhost:8080/"
        },
        "id": "d7szxOa4bRUP",
        "outputId": "49527eff-36d4-40d7-bc8b-705832dfa6d4"
      },
      "execution_count": null,
      "outputs": [
        {
          "output_type": "stream",
          "name": "stdout",
          "text": [
            "Using \"Upper\"   Method: PYTHON IS THE BEST PROGRAMMING!\n",
            "Using \"Lower\"   Method: python is the best programming!\n",
            "Using \"Replace\" Method: C++ is the Best Programming!\n",
            "Using \"Find\"    Method: 19\n"
          ]
        }
      ]
    },
    {
      "cell_type": "markdown",
      "source": [
        "### **3. Tuples**"
      ],
      "metadata": {
        "id": "XfoXhOfmbRUS"
      }
    },
    {
      "cell_type": "code",
      "source": [
        "# All The Ways To Create Tuples\n",
        "# All The Values To Store in a Tuple(s)\n",
        "# All Tuples Are Immutable -> Means -> Unchangeable!\n",
        "tuple1 = tuple([1, 2, 3, 4])\n",
        "tuple2 = (1, \"Hello, World!\", 1.22, False)\n",
        "tuple3 = 1, 2.5, \"Python is Best\", [1, 2, 4], 3.14\n",
        "\n",
        "print(tuple1)\n",
        "print(tuple2)\n",
        "print(tuple3)\n",
        "\n",
        "# Tuple Slicing in Python\n",
        "print(end='\\n')\n",
        "print(tuple2[0:3])\n",
        "print(tuple3[1:2])\n",
        "\n",
        "print(sorted(tuple1, reverse=True))\n",
        "# But, That doesn't change The Main Tuple!\n",
        "print(tuple1)\n",
        "\n",
        "# Working on Nested Tuples\n",
        "tuplex = (1, (2, 3, 4), 5, \"Python Is Best!\", False)\n",
        "print(f\"Using Nested Slicing: {tuplex[1][2]}\")\n",
        "\n",
        "del(tuple1)\n",
        "del(tuple2)\n",
        "del(tuple3)\n",
        "del(tuplex)"
      ],
      "metadata": {
        "trusted": true,
        "colab": {
          "base_uri": "https://localhost:8080/"
        },
        "id": "kjQOu20ObRUT",
        "outputId": "358c7c8c-ca01-4d2c-ccef-d8183d6f22e7"
      },
      "execution_count": null,
      "outputs": [
        {
          "output_type": "stream",
          "name": "stdout",
          "text": [
            "(1, 2, 3, 4)\n",
            "(1, 'Hello, World!', 1.22, False)\n",
            "(1, 2.5, 'Python is Best', [1, 2, 4], 3.14)\n",
            "\n",
            "(1, 'Hello, World!', 1.22)\n",
            "(2.5,)\n",
            "[4, 3, 2, 1]\n",
            "(1, 2, 3, 4)\n",
            "Using Nested Slicing: 4\n"
          ]
        }
      ]
    },
    {
      "cell_type": "markdown",
      "source": [
        "### **4. Lists**"
      ],
      "metadata": {
        "id": "NX7XsJOBbRUW"
      }
    },
    {
      "cell_type": "code",
      "source": [
        "# All The Ways To Create Lists\n",
        "# All The Values To Store in a List(s)\n",
        "# Lists Are Mutable -> Means -> Changeable!\n",
        "\n",
        "# Creating Lists\n",
        "list1 = list([1, 2, 3, 4])  # From another iterable (like a list)\n",
        "list2 = [1, \"Hello, World!\", 1.22, False]  # Directly with square brackets\n",
        "list3 = [1, 2.5, \"Python is Best\", [1, 2, 4], 3.14]  # Mixed types, including another list\n",
        "\n",
        "# Display the Lists\n",
        "print(\"List1:\", list1)\n",
        "print(\"List2:\", list2)\n",
        "print(\"List3:\", list3)\n",
        "\n",
        "# List Slicing in Python\n",
        "print(\"\\nList Slicing:\")\n",
        "print(\"list2[0:3]:\", list2[0:3])  # Slice from index 0 to 2\n",
        "print(\"list3[1:3]:\", list3[1:3])  # Slice from index 1 to 2\n",
        "\n",
        "# Working with Sorted List\n",
        "print(\"\\nSorted List:\")\n",
        "print(\"Sorted list1 (descending):\", sorted(list1, reverse=True))  # Sorted in descending order\n",
        "print(\"Original list1:\", list1)  # The original list1 remains unchanged\n",
        "\n",
        "# Working on Nested Lists\n",
        "nested_list = [1, [2, 3, 4], 5, \"Python Is Best!\", False]\n",
        "print(f\"\\nUsing Nested Slicing: {nested_list[1][2]}\")  # Accessing element within nested list\n",
        "\n",
        "del(list1)\n",
        "del(list2)\n",
        "del(list3)\n"
      ],
      "metadata": {
        "trusted": true,
        "colab": {
          "base_uri": "https://localhost:8080/"
        },
        "id": "p4RdnfAVbRUZ",
        "outputId": "4de2633c-4aa6-4612-a0a5-a625b660da86"
      },
      "execution_count": null,
      "outputs": [
        {
          "output_type": "stream",
          "name": "stdout",
          "text": [
            "List1: [1, 2, 3, 4]\n",
            "List2: [1, 'Hello, World!', 1.22, False]\n",
            "List3: [1, 2.5, 'Python is Best', [1, 2, 4], 3.14]\n",
            "\n",
            "List Slicing:\n",
            "list2[0:3]: [1, 'Hello, World!', 1.22]\n",
            "list3[1:3]: [2.5, 'Python is Best']\n",
            "\n",
            "Sorted List:\n",
            "Sorted list1 (descending): [4, 3, 2, 1]\n",
            "Original list1: [1, 2, 3, 4]\n",
            "\n",
            "Using Nested Slicing: 4\n"
          ]
        }
      ]
    },
    {
      "cell_type": "markdown",
      "source": [
        "### **5. List Methods!**\n",
        "**Note**:\n",
        "Since, The List Contains Multiple Kinds of Elements, We Can't use **sort** methods in The below code.\n"
      ],
      "metadata": {
        "id": "C-1Gk8GMbx9H"
      }
    },
    {
      "cell_type": "code",
      "source": [
        "list1 = [1, 3, 3.14, \"Hello, World!-\", (1, 2, 3), ['Dayum', 1, 5, 9], False]\n",
        "\n",
        "list1.append(10)\n",
        "print(f\"After Append : {list1}\")\n",
        "\n",
        "list2 = list1.copy()\n",
        "print(f\"Copy of List : {list2}\")\n",
        "\n",
        "list1.extend((\"Good\", \"Morning\"))\n",
        "print(f\"After Extend : {list1}\")\n",
        "\n",
        "list1.remove(\"Good\")\n",
        "list1.remove(\"Morning\")\n",
        "print(f\"After Remove : {list1}\")\n",
        "\n",
        "list1.pop(1)\n",
        "print(f\"After Popping: {list1}\")\n",
        "\n",
        "print(f\"Index (3.14) : {[list1.index(3.14)]}\")\n",
        "\n",
        "\n",
        "list1.insert(1001, 2)\n",
        "print(f\"After Insert : {list1}\")\n",
        "\n",
        "list1.reverse()\n",
        "print(f\"After Reverse: {list1}\")\n",
        "\n",
        "\n",
        "list2.clear()\n",
        "print(f\"After Clear: {list2}\")\n",
        "\n",
        "list3 = \"Python Is The Best!\".split(' ')\n",
        "print(f\"Creation Using \\\"split()\\\" : {list3}\")\n",
        "\n",
        "\n",
        "del(list1)\n",
        "del(list2)\n",
        "del(list3)\n"
      ],
      "metadata": {
        "trusted": true,
        "colab": {
          "base_uri": "https://localhost:8080/"
        },
        "id": "ANSWuJRBbRUb",
        "outputId": "fc5b5869-609f-4124-add1-686427755eaa"
      },
      "execution_count": null,
      "outputs": [
        {
          "output_type": "stream",
          "name": "stdout",
          "text": [
            "After Append : [1, 3, 3.14, 'Hello, World!-', (1, 2, 3), ['Dayum', 1, 5, 9], False, 10]\n",
            "Copy of List : [1, 3, 3.14, 'Hello, World!-', (1, 2, 3), ['Dayum', 1, 5, 9], False, 10]\n",
            "After Extend : [1, 3, 3.14, 'Hello, World!-', (1, 2, 3), ['Dayum', 1, 5, 9], False, 10, 'Good', 'Morning']\n",
            "After Remove : [1, 3, 3.14, 'Hello, World!-', (1, 2, 3), ['Dayum', 1, 5, 9], False, 10]\n",
            "After Popping: [1, 3.14, 'Hello, World!-', (1, 2, 3), ['Dayum', 1, 5, 9], False, 10]\n",
            "Index (3.14) : [1]\n",
            "After Insert : [1, 3.14, 'Hello, World!-', (1, 2, 3), ['Dayum', 1, 5, 9], False, 10, 2]\n",
            "After Reverse: [2, 10, False, ['Dayum', 1, 5, 9], (1, 2, 3), 'Hello, World!-', 3.14, 1]\n",
            "After Clear: []\n",
            "Creation Using \"split()\" : ['Python', 'Is', 'The', 'Best!']\n"
          ]
        }
      ]
    },
    {
      "cell_type": "markdown",
      "source": [
        "### **6. Sets**"
      ],
      "metadata": {
        "id": "9NosKiMEJDND"
      }
    },
    {
      "cell_type": "code",
      "source": [
        "set1 = set([1, 2, 3, 4])\n"
      ],
      "metadata": {
        "colab": {
          "base_uri": "https://localhost:8080/"
        },
        "id": "kXL9TB8lJIYp",
        "outputId": "fba3e90b-4c16-4022-9987-c15da9713ab7"
      },
      "execution_count": null,
      "outputs": [
        {
          "output_type": "stream",
          "name": "stdout",
          "text": [
            "{1, 2, 3, 4}\n"
          ]
        }
      ]
    }
  ]
}